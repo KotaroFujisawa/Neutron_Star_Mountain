{
 "cells": [
  {
   "cell_type": "code",
   "execution_count": 17,
   "metadata": {},
   "outputs": [
    {
     "name": "stdout",
     "output_type": "stream",
     "text": [
      "The first eigenfrequency is:  [0.34999995]\n",
      "The second eigenfrequency is:  [0.35018847]\n"
     ]
    }
   ],
   "source": [
    "import numpy as np\n",
    "import matplotlib.pyplot as plt\n",
    "from scipy.integrate import solve_bvp\n",
    "from scipy.integrate import odeint\n",
    "from scipy.integrate import solve_ivp\n",
    "from scipy.integrate import quad\n",
    "#Central density\n",
    "rhoc = 1.0e17\n",
    "#Constants\n",
    "G = 6.674e-11\n",
    "R = 1.19e4\n",
    "c = 3e8\n",
    "#Harmonics\n",
    "l1 = 2\n",
    "beta1 = l1*(l1+1)\n",
    "#Range of the radial coordinate\n",
    "r_min = 1e-12\n",
    "r_max = R\n",
    "n_points = 1000\n",
    "r = np.linspace(r_min, r_max, n_points)\n",
    "#Background density\n",
    "def rhof(r): \n",
    "\tx = (r/R)\n",
    "\trhof = rhoc*(np.sinc(x))\n",
    "\treturn rhof\n",
    "\n",
    "#Background pressure\n",
    "def pf(r):\n",
    "    x = (r/R)\n",
    "    pf = ((2*G*(rhoc**2)*(R**2))/np.pi)*((np.sinc(x))**2)\n",
    "    return pf\n",
    "\n",
    "#Square of the speed of sound\n",
    "def csf(r): \n",
    "\tx = (r/R)\n",
    "\tcsf = 10*G*rhoc*(R**2)*((1)/(3*np.pi))*(np.sinc(x))\n",
    "\treturn csf\n",
    "\t\n",
    "#Gravitational acceleration\n",
    "def gf(r): \n",
    "\tx = (r/R)\n",
    "\tgf = 4*G*R*rhoc*((np.cos(x)/x) - (np.sinc(x)/x))\n",
    "\treturn gf\n",
    "\t\n",
    "#Gradient of background density\n",
    "def rhogradf(r): \n",
    "\tx = (r/R)\n",
    "\trhogradf = rhoc*(np.pi/R)*((np.cos(x)/x) - (np.sinc(x)/x))\n",
    "\treturn rhogradf\n",
    "\n",
    "#Gradient of square of the speed of sound\n",
    "def csgradf(r): \n",
    "\tx = (r/R)\n",
    "\tcsgradf = (10/3)*G*rhoc*R*((np.cos(x)/x) - (np.sinc(x)/x))\n",
    "\treturn csgradf\n",
    "\t\n",
    "rho = rhof(r)\n",
    "cs = csf(r)\n",
    "g = gf(r)\n",
    "rhograd = rhogradf(r)\n",
    "csgrad = csgradf(r)\n",
    "#Adiabatic factor\n",
    "Gamma = 2.2\n",
    "Lambda1 = 3.2\n",
    "Lambda2 = 4.2\t\n",
    "#The coupled ODEs\n",
    "def eigenvalue_problem(r, y, om2):\n",
    "\tDPhi = y[0]\n",
    "\tPhi = y[1]\n",
    "\tW = y[2]\n",
    "\tV = y[3]\n",
    "\tdDPhidr = -(2/r)*DPhi + (((beta1/r)**2) - ((4*np.pi*G*rhof(r))/csf(r)))*Phi -\t4*np.pi*G*(rhogradf(r) + ((rhof(r)*gf(r))/(csf(r))))*W + ((4*np.pi*G*rhof(r)*(om2[0])*r)/csf(r))*V\n",
    "\tdPhidr = DPhi\n",
    "\tdWdr = (1/(csf(r)))*Phi + ((gf(r)/csf(r)) - (2/r))*W + (((beta1**2)/r) - (((om2[0])*r)/(csf(r))))*V\n",
    "\tdVdr = ((gf(r)/(csf(r)*(om2[0])*r)) + ((rhogradf(r))/(rhof(r)*(om2[0])*r)))*Phi + ((1/r) + ((Lambda2*gf(r)*rhogradf(r))/((om2[0])*r*rhof(r))) + (((gf(r)**2)*Lambda1)/(csf(r)*r*(om2[0]))) + ((rhogradf(r)*csgradf(r))/(rhof(r)*r*(om2[0]))) + ((csf(r)*(rhogradf(r)**2))/((rhof(r)**2)*(om2[0])*r)) + ((gf(r)*csgradf(r))/(csf(r)*r*(om2[0]))))*W -  (((gf(r))/(csf(r))) + (1/r) + (rhogradf(r)/rhof(r)))*V\n",
    "\treturn np.vstack((dDPhidr, dPhidr, dWdr, dVdr))\n",
    "\t\n",
    "#boundary conditions\n",
    "def bc(y0, yR, om2):\n",
    "\tR = 1.19e4\n",
    "\treturn np.array([y0[0], y0[1], y0[2], yR[0] + (3/R)*yR[1], yR[1] - om2[0]*R*yR[3]])\n",
    "\n",
    "#initial solution guess\n",
    "om2 = np.zeros(1)\n",
    "y_guess = np.vstack((-3*r, r**2, r**2, r))\n",
    "om2[0] = 0.1225\n",
    "#Solution of the BVP\n",
    "res_first = solve_bvp(eigenvalue_problem, bc, r, y_guess, om2)\n",
    "#1st g mode\n",
    "gom1 = res_first.p\n",
    "y_guess = res_first.y\n",
    "#Solution of the BVP, 2nd g-mode\n",
    "res_second = solve_bvp(eigenvalue_problem, bc, r, y_guess, gom1)\n",
    "#2nd g mode\n",
    "gom2 = res_second.p\n",
    "print(\"The first eigenfrequency is: \", np.sqrt(gom1))\n",
    "print(\"The second eigenfrequency is: \", np.sqrt(gom2))\n",
    "#Calculate the perturbed density\n",
    "def Drho1f(r): \n",
    "\tDrho1f = -rhof(r)*((res_first.y[1]/csf(r)) + ((gf(r)*res_first.y[2])/csf(r)) - ((gom1*r*res_first.y[3])/csf(r)) + ((res_first.y[2]*rhogradf(r))/rhof(r)))\n",
    "\treturn Drho1f\n",
    "\n",
    "def Drho2f(r): \n",
    "\tDrho2f = -rhof(r)*((res_second.y[1]/csf(r)) + ((gf(r)*res_second.y[2])/csf(r)) - ((gom2*r*res_second.y[3])/csf(r)) + ((res_second.y[2]*rhogradf(r))/rhof(r)))\n",
    "\treturn Drho2f\n",
    "\n",
    "def Drho1(r): \n",
    "\tDrho1 = Drho1f(r)*(r**4)\n",
    "\treturn Drho1\n",
    "\n",
    "def Drho2(r): \n",
    "\tDrho2 = Drho2f(r)*(r**4)\n",
    "\treturn Drho2\n",
    "\n"
   ]
  },
  {
   "cell_type": "code",
   "execution_count": 18,
   "metadata": {},
   "outputs": [
    {
     "data": {
      "text/plain": [
       "       message: The maximum number of mesh nodes is exceeded.\n",
       "       success: False\n",
       "        status: 1\n",
       "             x: [ 1.000e-12  1.191e+01 ...  1.189e+04  1.190e+04]\n",
       "           sol: <scipy.interpolate._interpolate.PPoly object at 0x11fc2dd90>\n",
       "             p: [ 1.225e-01]\n",
       "             y: [[ 2.026e-21  1.991e+03 ... -7.277e+13  4.330e+13]\n",
       "                 [-2.831e-22  4.309e+03 ... -1.716e+17 -1.718e+17]\n",
       "                 [ 1.847e-07  1.847e+02 ... -8.889e+07 -4.705e-03]\n",
       "                 [ 6.060e-09 -4.999e+04 ... -1.448e+14 -1.178e+14]]\n",
       "            yp: [[-1.019e+04 -9.552e+03 ...  2.306e+12 -5.095e+10]\n",
       "                 [ 2.026e-21  1.991e+03 ... -7.277e+13  4.330e+13]\n",
       "                 [-1.513e+05 -1.511e+05 ... -4.384e+11  1.049e+12]\n",
       "                 [ 1.787e+05  1.535e+05 ... -1.598e+16  2.861e+20]]\n",
       " rms_residuals: [ 1.453e+00  1.425e+00 ...  1.279e+00  1.588e+00]\n",
       "         niter: 1"
      ]
     },
     "metadata": {},
     "output_type": "display_data"
    }
   ],
   "source": [
    "display(res_first)"
   ]
  },
  {
   "cell_type": "code",
   "execution_count": null,
   "metadata": {},
   "outputs": [],
   "source": [
    "Multipole moments\n",
    "#I1, error = quad(Drho1(r), r_min, R)\n",
    "#I2, error = quad(Drho2(r), r_min, R)\n",
    "#Orbital velocity\n",
    "#OM_min = 0.001\n",
    "#OM_max = 0.1\n",
    "##OM = np.linspace(OM_min, OM_max, n_points)\n",
    "#Love numbers\n",
    "#def k1(OM): \n",
    "#\tk1 = ((2*np.pi*G)/(5*(R**5)))*(I1**2)/((gom1**2) - (2*(OM**2)))\n",
    "\treturn k1\n",
    "\n",
    "def k2(OM): \n",
    "\tk2 = ((2*np.pi*G)/(5*(R**5)))*(I2**2)/((gom2**2) - (2*(OM**2)))\n",
    "\treturn k2\n",
    "\n",
    "def kf(OM): \n",
    "\tkf = k1(OM) + k2(OM)\n",
    "\treturn kf\n",
    "\n",
    "k = kf(OM)\n",
    "plt.plot(OM, k)\n",
    "plt.show()"
   ]
  },
  {
   "cell_type": "code",
   "execution_count": null,
   "metadata": {},
   "outputs": [],
   "source": []
  },
  {
   "cell_type": "code",
   "execution_count": null,
   "metadata": {},
   "outputs": [],
   "source": []
  },
  {
   "cell_type": "code",
   "execution_count": null,
   "metadata": {},
   "outputs": [],
   "source": []
  }
 ],
 "metadata": {
  "kernelspec": {
   "display_name": "Python 3",
   "language": "python",
   "name": "python3"
  },
  "language_info": {
   "codemirror_mode": {
    "name": "ipython",
    "version": 3
   },
   "file_extension": ".py",
   "mimetype": "text/x-python",
   "name": "python",
   "nbconvert_exporter": "python",
   "pygments_lexer": "ipython3",
   "version": "3.11.1"
  },
  "orig_nbformat": 4,
  "vscode": {
   "interpreter": {
    "hash": "aee8b7b246df8f9039afb4144a1f6fd8d2ca17a180786b69acc140d282b71a49"
   }
  }
 },
 "nbformat": 4,
 "nbformat_minor": 2
}
