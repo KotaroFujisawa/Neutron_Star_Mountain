{
 "cells": [
  {
   "cell_type": "code",
   "execution_count": 82,
   "metadata": {},
   "outputs": [],
   "source": [
    "import numpy as np\n",
    "import matplotlib.pyplot as plt\n",
    "from scipy.integrate import solve_bvp"
   ]
  },
  {
   "cell_type": "code",
   "execution_count": 83,
   "metadata": {},
   "outputs": [],
   "source": [
    "#The right hand side of ODEs\n",
    "def fun(x, y, p):\n",
    "    return np.array([y[1], -(2/x-4*x)/(1-x**2)*y[1] - (p[0]-2/x**2)/(1-x**2)*y[0] ])\n",
    "    #The boundary conditions:\n",
    "def bc(ya, yb, p):\n",
    "    return np.array([ya[0], yb[0]-1, ya[1] - 5.0])"
   ]
  },
  {
   "cell_type": "code",
   "execution_count": 86,
   "metadata": {},
   "outputs": [],
   "source": [
    "def fun_LE(x, y, p):\n",
    "    return np.vstack((y[1], -2/x*y[1] - p[0]**2*np.abs(y[0])**n))\n",
    "\n",
    "def bc_LE(ya, yb, p):\n",
    "    return np.array([ya[0]-1, ya[1], yb[0]])"
   ]
  },
  {
   "cell_type": "code",
   "execution_count": 88,
   "metadata": {},
   "outputs": [
    {
     "name": "stdout",
     "output_type": "stream",
     "text": [
      "ω^2 =  [3.1447374]\n"
     ]
    },
    {
     "data": {
      "image/png": "[encoded data removed]",
      "text/plain": [
       "<Figure size 640x480 with 1 Axes>"
      ]
     },
     "metadata": {},
     "output_type": "display_data"
    }
   ],
   "source": [
    "#make grid x = [0.01 1]\n",
    "x = np.linspace(0.001, 0.999, 100)\n",
    "#y[0]:θ, y[1]:dθ/dξ = y\n",
    "y = np.zeros((2, x.size))\n",
    "\n",
    "#initial guess for θ\n",
    "y[0] = np.sin(x)\n",
    "p = np.zeros(1)\n",
    "#initial guess for omega\n",
    "p[0] = 4\n",
    "\n",
    "#solve BVP using solve_bvp\n",
    "#res = solve_bvp(fun_LE, bc_LE, x, y, p)\n",
    "res = solve_bvp(fun_LE, bc_LE, x, y, p)\n",
    "\n",
    "#plot\n",
    "#x_plot = np.linspace(0, 1, 30)\n",
    "#y_plot = res.sol(x_plot)[0]\n",
    "print(\"ω^2 = \", res.p)\n",
    "\n",
    "\n",
    "plt.plot(res.x, res.y[0], \".-\", label='solution')\n",
    "#plt.plot(x_plot,  y_plot, \".-\", label='solution')\n",
    "\n",
    "plt.legend()\n",
    "plt.xlabel(\"r\")\n",
    "plt.ylabel(\"ξ\")\n",
    "plt.show()"
   ]
  },
  {
   "cell_type": "code",
   "execution_count": 89,
   "metadata": {},
   "outputs": [
    {
     "data": {
      "text/plain": [
       "       message: The algorithm converged to the desired accuracy.\n",
       "       success: True\n",
       "        status: 0\n",
       "             x: [ 1.000e-03  1.140e-03 ...  9.889e-01  9.990e-01]\n",
       "           sol: <scipy.interpolate._interpolate.PPoly object at 0x12e9727b0>\n",
       "             p: [ 3.145e+00]\n",
       "             y: [[ 1.000e+00  1.000e+00 ...  1.019e-02  0.000e+00]\n",
       "                 [ 0.000e+00 -1.222e-03 ... -1.021e+00 -1.001e+00]]\n",
       "            yp: [[ 0.000e+00 -1.222e-03 ... -1.021e+00 -1.001e+00]\n",
       "                 [-9.889e+00 -7.746e+00 ...  1.964e+00  2.004e+00]]\n",
       " rms_residuals: [ 4.352e-04  2.505e-04 ...  6.226e-08  6.098e-08]\n",
       "         niter: 6"
      ]
     },
     "metadata": {},
     "output_type": "display_data"
    }
   ],
   "source": [
    "display(res)"
   ]
  },
  {
   "cell_type": "code",
   "execution_count": null,
   "metadata": {},
   "outputs": [],
   "source": []
  }
 ],
 "metadata": {
  "kernelspec": {
   "display_name": "Python 3",
   "language": "python",
   "name": "python3"
  },
  "language_info": {
   "codemirror_mode": {
    "name": "ipython",
    "version": 3
   },
   "file_extension": ".py",
   "mimetype": "text/x-python",
   "name": "python",
   "nbconvert_exporter": "python",
   "pygments_lexer": "ipython3",
   "version": "3.11.1"
  },
  "orig_nbformat": 4,
  "vscode": {
   "interpreter": {
    "hash": "aee8b7b246df8f9039afb4144a1f6fd8d2ca17a180786b69acc140d282b71a49"
   }
  }
 },
 "nbformat": 4,
 "nbformat_minor": 2
}
