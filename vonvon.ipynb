{
 "cells": [
  {
   "cell_type": "code",
   "execution_count": 95,
   "metadata": {},
   "outputs": [],
   "source": [
    "#von Mises strain calculation\n",
    "from sympy import *\n",
    "from sympy.abc import theta, phi\n",
    "from sympy.functions.special.spherical_harmonics import Ynm\n",
    "#from sympy.abc import i, j\n",
    "#from sympy import Function\n",
    "#from sympy import I\n",
    "from sympy.tensor import IndexedBase\n",
    "from sympy.tensor.tensor import TensorIndexType, Tensor, tensorhead, tensor_indices, tensor_heads\n",
    "from sympy.tensor.array import Array, tensorproduct \n",
    "\n",
    "#symbols\n",
    "l = 2\n",
    "m = 2\n",
    "beta = sqrt(l*(l+1))\n",
    "theta, phi, r = symbols('theta phi r')\n",
    "i, j = symbols('i j', integer=True)\n",
    "Y_lm = Ynm(l, m, theta, phi)\n",
    "#radial functions\n",
    "W = Function('W')(r)\n",
    "V = Function('V')(r)\n",
    "U = Function('U')(r)\n",
    "T_1 = Function('T_1')(r)\n",
    "T_2 = Function('T_2')(r)\n",
    "T_3 = Function('T_3')(r)\n",
    "mu = Function('mu')(r)\n",
    "#displacement vectorsf \n",
    "xi_r = W*Y_lm\n",
    "xi_theta = V*(r/beta)*diff(Y_lm, theta) - I*(U/sin(theta))*(r/beta)*diff(Y_lm, phi)\n",
    "xi_phi = V*(r/beta)*diff(Y_lm, phi) + I*sin(theta)*U*(r/beta)*diff(Y_lm, theta)\n",
    "#metric tensor\n",
    "g = Function('g')(i, j, r, theta)\n",
    "g = diag(1, r**2, (r**2)*(sin(theta)**2))\n",
    "ginv = Function('ginv')(i, j, r, theta)\n",
    "ginv = diag(1, 1/(r**2), 1/((r**2)*(sin(theta)**2)))\n",
    "divxi = (-3*(W/r) - beta*(V/(2*r)) + ((3*T_1)/(4*mu)))*Y_lm\n"
   ]
  },
  {
   "cell_type": "code",
   "execution_count": 64,
   "metadata": {},
   "outputs": [
    {
     "name": "stderr",
     "output_type": "stream",
     "text": [
      "/var/folders/2x/9z58jdkj64v7y0p4b_g_d2pr0000gn/T/ipykernel_17272/1431144275.py:1: SymPyDeprecationWarning: \n",
      "\n",
      "The dummy_fmt keyword to TensorIndexType is deprecated. Use\n",
      "dummy_name=L instead.\n",
      "\n",
      "See https://docs.sympy.org/latest/explanation/active-deprecations.html#deprecated-tensorindextype-dummy-fmt\n",
      "for details.\n",
      "\n",
      "This has been deprecated since SymPy version 1.5. It\n",
      "will be removed in a future version of SymPy.\n",
      "\n",
      "  Lorentz = TensorIndexType('Lorentz', dummy_fmt='L')\n",
      "/var/folders/2x/9z58jdkj64v7y0p4b_g_d2pr0000gn/T/ipykernel_17272/1431144275.py:3: SymPyDeprecationWarning: \n",
      "\n",
      "The tensorhead() function is deprecated. Use tensor_heads() instead.\n",
      "\n",
      "See https://docs.sympy.org/latest/explanation/active-deprecations.html#deprecated-tensorhead\n",
      "for details.\n",
      "\n",
      "This has been deprecated since SymPy version 1.5. It\n",
      "will be removed in a future version of SymPy.\n",
      "\n",
      "  B = tensorhead('B', [Lorentz]*2, [[1]*2])\n"
     ]
    }
   ],
   "source": [
    "Lorentz = TensorIndexType('Lorentz', dummy_fmt='L')\n",
    "i, j = tensor_indices('i j', Lorentz)\n",
    "B = tensorhead('B', [Lorentz]*2, [[1]*2])"
   ]
  },
  {
   "cell_type": "code",
   "execution_count": 66,
   "metadata": {},
   "outputs": [
    {
     "name": "stdout",
     "output_type": "stream",
     "text": [
      "B(Lorentz,Lorentz)\n"
     ]
    }
   ],
   "source": [
    "print(B)"
   ]
  },
  {
   "cell_type": "code",
   "execution_count": 96,
   "metadata": {},
   "outputs": [],
   "source": [
    "#stress tensor\n",
    "#A = Tensor('A', indices=[i,j])\n",
    "A_components = symbols('A_ij')\n",
    "A_00 = T_1*Y_lm\n",
    "A_01 = T_2*diff(Y_lm, theta) - I*(T_3/sin(theta))*diff(Y_lm, phi)\n",
    "A_02 = T_2*diff(Y_lm, phi) + I*sin(theta)*T_3*diff(Y_lm, theta)\n",
    "A_10 = T_2*diff(Y_lm, theta) - I*(T_3/sin(theta))*diff(Y_lm, phi)\n",
    "A_20 = T_2*diff(Y_lm, phi) + I*sin(theta)*T_3*diff(Y_lm, theta)\n",
    "A_11 = 2*diff(xi_theta, theta) - (2/3)*g[1,1]*divxi\n",
    "A_22 = 2*diff(xi_phi, phi) - (2/3)*g[2,2]*divxi\n",
    "A_12 = diff(xi_theta, phi) + diff(xi_phi, theta)\n",
    "A_21 = diff(xi_theta, phi) + diff(xi_phi, theta)\n",
    "A_compoenets = Matrix([[A_00, A_01, A_02],[A_10, A_11, A_12],[A_20, A_21, A_22]])\n"
   ]
  },
  {
   "cell_type": "code",
   "execution_count": 97,
   "metadata": {},
   "outputs": [
    {
     "data": {
      "text/latex": [
       "$\\displaystyle \\left[\\begin{matrix}T_{1}{\\left(r \\right)} Y_{2}^{2}\\left(\\theta,\\phi\\right) & 2 T_{2}{\\left(r \\right)} \\cot{\\left(\\theta \\right)} Y_{2}^{2}\\left(\\theta,\\phi\\right) + \\frac{2 T_{3}{\\left(r \\right)} Y_{2}^{2}\\left(\\theta,\\phi\\right)}{\\sin{\\left(\\theta \\right)}} & 2 i T_{2}{\\left(r \\right)} Y_{2}^{2}\\left(\\theta,\\phi\\right) + 2 i T_{3}{\\left(r \\right)} \\sin{\\left(\\theta \\right)} \\cot{\\left(\\theta \\right)} Y_{2}^{2}\\left(\\theta,\\phi\\right)\\\\2 T_{2}{\\left(r \\right)} \\cot{\\left(\\theta \\right)} Y_{2}^{2}\\left(\\theta,\\phi\\right) + \\frac{2 T_{3}{\\left(r \\right)} Y_{2}^{2}\\left(\\theta,\\phi\\right)}{\\sin{\\left(\\theta \\right)}} & - 0.666666666666667 r^{2} \\cdot \\left(\\frac{3 T_{1}{\\left(r \\right)}}{4 \\mu{\\left(r \\right)}} - \\frac{\\sqrt{6} V{\\left(r \\right)}}{2 r} - \\frac{3 W{\\left(r \\right)}}{r}\\right) Y_{2}^{2}\\left(\\theta,\\phi\\right) + \\frac{2 \\sqrt{6} r \\left(- \\cot^{2}{\\left(\\theta \\right)} - 1\\right) V{\\left(r \\right)} Y_{2}^{2}\\left(\\theta,\\phi\\right)}{3} + \\frac{4 \\sqrt{6} r U{\\left(r \\right)} \\cot{\\left(\\theta \\right)} Y_{2}^{2}\\left(\\theta,\\phi\\right)}{3 \\sin{\\left(\\theta \\right)}} - \\frac{2 \\sqrt{6} r U{\\left(r \\right)} \\cos{\\left(\\theta \\right)} Y_{2}^{2}\\left(\\theta,\\phi\\right)}{3 \\sin^{2}{\\left(\\theta \\right)}} + \\frac{4 \\sqrt{6} r V{\\left(r \\right)} \\cot^{2}{\\left(\\theta \\right)} Y_{2}^{2}\\left(\\theta,\\phi\\right)}{3} & \\frac{\\sqrt{6} i r \\left(- \\cot^{2}{\\left(\\theta \\right)} - 1\\right) U{\\left(r \\right)} \\sin{\\left(\\theta \\right)} Y_{2}^{2}\\left(\\theta,\\phi\\right)}{3} + \\frac{2 \\sqrt{6} i r U{\\left(r \\right)} \\sin{\\left(\\theta \\right)} \\cot^{2}{\\left(\\theta \\right)} Y_{2}^{2}\\left(\\theta,\\phi\\right)}{3} + \\frac{\\sqrt{6} i r U{\\left(r \\right)} \\cos{\\left(\\theta \\right)} \\cot{\\left(\\theta \\right)} Y_{2}^{2}\\left(\\theta,\\phi\\right)}{3} + \\frac{2 \\sqrt{6} i r U{\\left(r \\right)} Y_{2}^{2}\\left(\\theta,\\phi\\right)}{3 \\sin{\\left(\\theta \\right)}} + \\frac{4 \\sqrt{6} i r V{\\left(r \\right)} \\cot{\\left(\\theta \\right)} Y_{2}^{2}\\left(\\theta,\\phi\\right)}{3}\\\\2 i T_{2}{\\left(r \\right)} Y_{2}^{2}\\left(\\theta,\\phi\\right) + 2 i T_{3}{\\left(r \\right)} \\sin{\\left(\\theta \\right)} \\cot{\\left(\\theta \\right)} Y_{2}^{2}\\left(\\theta,\\phi\\right) & \\frac{\\sqrt{6} i r \\left(- \\cot^{2}{\\left(\\theta \\right)} - 1\\right) U{\\left(r \\right)} \\sin{\\left(\\theta \\right)} Y_{2}^{2}\\left(\\theta,\\phi\\right)}{3} + \\frac{2 \\sqrt{6} i r U{\\left(r \\right)} \\sin{\\left(\\theta \\right)} \\cot^{2}{\\left(\\theta \\right)} Y_{2}^{2}\\left(\\theta,\\phi\\right)}{3} + \\frac{\\sqrt{6} i r U{\\left(r \\right)} \\cos{\\left(\\theta \\right)} \\cot{\\left(\\theta \\right)} Y_{2}^{2}\\left(\\theta,\\phi\\right)}{3} + \\frac{2 \\sqrt{6} i r U{\\left(r \\right)} Y_{2}^{2}\\left(\\theta,\\phi\\right)}{3 \\sin{\\left(\\theta \\right)}} + \\frac{4 \\sqrt{6} i r V{\\left(r \\right)} \\cot{\\left(\\theta \\right)} Y_{2}^{2}\\left(\\theta,\\phi\\right)}{3} & - 0.666666666666667 r^{2} \\cdot \\left(\\frac{3 T_{1}{\\left(r \\right)}}{4 \\mu{\\left(r \\right)}} - \\frac{\\sqrt{6} V{\\left(r \\right)}}{2 r} - \\frac{3 W{\\left(r \\right)}}{r}\\right) \\sin^{2}{\\left(\\theta \\right)} Y_{2}^{2}\\left(\\theta,\\phi\\right) - \\frac{4 \\sqrt{6} r U{\\left(r \\right)} \\sin{\\left(\\theta \\right)} \\cot{\\left(\\theta \\right)} Y_{2}^{2}\\left(\\theta,\\phi\\right)}{3} - \\frac{4 \\sqrt{6} r V{\\left(r \\right)} Y_{2}^{2}\\left(\\theta,\\phi\\right)}{3}\\end{matrix}\\right]$"
      ],
      "text/plain": [
       "Matrix([\n",
       "[                                                             T_1(r)*Ynm(2, 2, theta, phi),                                                                                                                                                                                                                                                                                2*T_2(r)*cot(theta)*Ynm(2, 2, theta, phi) + 2*T_3(r)*Ynm(2, 2, theta, phi)/sin(theta),                                                                                                                                                                                                                                         2*I*T_2(r)*Ynm(2, 2, theta, phi) + 2*I*T_3(r)*sin(theta)*cot(theta)*Ynm(2, 2, theta, phi)],\n",
       "[    2*T_2(r)*cot(theta)*Ynm(2, 2, theta, phi) + 2*T_3(r)*Ynm(2, 2, theta, phi)/sin(theta), -0.666666666666667*r**2*(3*T_1(r)/(4*mu(r)) - sqrt(6)*V(r)/(2*r) - 3*W(r)/r)*Ynm(2, 2, theta, phi) + 2*sqrt(6)*r*(-cot(theta)**2 - 1)*V(r)*Ynm(2, 2, theta, phi)/3 + 4*sqrt(6)*r*U(r)*cot(theta)*Ynm(2, 2, theta, phi)/(3*sin(theta)) - 2*sqrt(6)*r*U(r)*cos(theta)*Ynm(2, 2, theta, phi)/(3*sin(theta)**2) + 4*sqrt(6)*r*V(r)*cot(theta)**2*Ynm(2, 2, theta, phi)/3, sqrt(6)*I*r*(-cot(theta)**2 - 1)*U(r)*sin(theta)*Ynm(2, 2, theta, phi)/3 + 2*sqrt(6)*I*r*U(r)*sin(theta)*cot(theta)**2*Ynm(2, 2, theta, phi)/3 + sqrt(6)*I*r*U(r)*cos(theta)*cot(theta)*Ynm(2, 2, theta, phi)/3 + 2*sqrt(6)*I*r*U(r)*Ynm(2, 2, theta, phi)/(3*sin(theta)) + 4*sqrt(6)*I*r*V(r)*cot(theta)*Ynm(2, 2, theta, phi)/3],\n",
       "[2*I*T_2(r)*Ynm(2, 2, theta, phi) + 2*I*T_3(r)*sin(theta)*cot(theta)*Ynm(2, 2, theta, phi),                                    sqrt(6)*I*r*(-cot(theta)**2 - 1)*U(r)*sin(theta)*Ynm(2, 2, theta, phi)/3 + 2*sqrt(6)*I*r*U(r)*sin(theta)*cot(theta)**2*Ynm(2, 2, theta, phi)/3 + sqrt(6)*I*r*U(r)*cos(theta)*cot(theta)*Ynm(2, 2, theta, phi)/3 + 2*sqrt(6)*I*r*U(r)*Ynm(2, 2, theta, phi)/(3*sin(theta)) + 4*sqrt(6)*I*r*V(r)*cot(theta)*Ynm(2, 2, theta, phi)/3,                                                                                                      -0.666666666666667*r**2*(3*T_1(r)/(4*mu(r)) - sqrt(6)*V(r)/(2*r) - 3*W(r)/r)*sin(theta)**2*Ynm(2, 2, theta, phi) - 4*sqrt(6)*r*U(r)*sin(theta)*cot(theta)*Ynm(2, 2, theta, phi)/3 - 4*sqrt(6)*r*V(r)*Ynm(2, 2, theta, phi)/3]])"
      ]
     },
     "metadata": {},
     "output_type": "display_data"
    }
   ],
   "source": [
    "A = Matrix([[A_00, A_01, A_02], [A_10, A_11, A_12], [A_20, A_21, A_22]])\n",
    "\n",
    "display(A)"
   ]
  },
  {
   "cell_type": "code",
   "execution_count": 90,
   "metadata": {},
   "outputs": [],
   "source": [
    "result = tensorcontraction(A*ginv*A, (0,1))\n",
    "simp_result = simplify(expand(result))"
   ]
  },
  {
   "cell_type": "code",
   "execution_count": 94,
   "metadata": {},
   "outputs": [
    {
     "data": {
      "text/latex": [
       "$\\displaystyle - \\frac{0.0009765625 r^{2} T_{1}^{2}{\\left(r \\right)} \\cos^{2}{\\left(\\theta \\right)} \\left(Y_{2}^{2}\\left(\\theta,\\phi\\right)\\right)^{2}}{\\mu^{2}{\\left(r \\right)}} + \\frac{0.001953125 r^{2} T_{1}^{2}{\\left(r \\right)} \\left(Y_{2}^{2}\\left(\\theta,\\phi\\right)\\right)^{2}}{\\mu^{2}{\\left(r \\right)}} + \\frac{0.0078125 \\sqrt{6} r T_{1}{\\left(r \\right)} U{\\left(r \\right)} \\cos{\\left(\\theta \\right)} \\left(Y_{2}^{2}\\left(\\theta,\\phi\\right)\\right)^{2}}{\\mu{\\left(r \\right)} \\sin^{2}{\\left(\\theta \\right)}} + \\frac{0.00520833333333333 \\sqrt{6} r T_{1}{\\left(r \\right)} U{\\left(r \\right)} \\cos^{5}{\\left(\\theta \\right)} \\left(Y_{2}^{2}\\left(\\theta,\\phi\\right)\\right)^{2}}{\\mu{\\left(r \\right)} \\sin^{4}{\\left(\\theta \\right)}} - \\frac{0.00520833333333333 \\sqrt{6} r T_{1}{\\left(r \\right)} U{\\left(r \\right)} \\cos{\\left(\\theta \\right)} \\left(Y_{2}^{2}\\left(\\theta,\\phi\\right)\\right)^{2}}{\\mu{\\left(r \\right)} \\sin^{4}{\\left(\\theta \\right)}} + \\frac{0.00130208333333333 \\sqrt{6} r T_{1}{\\left(r \\right)} V{\\left(r \\right)} \\cos^{2}{\\left(\\theta \\right)} \\left(Y_{2}^{2}\\left(\\theta,\\phi\\right)\\right)^{2}}{\\mu{\\left(r \\right)}} + \\frac{0.0078125 \\sqrt{6} r T_{1}{\\left(r \\right)} V{\\left(r \\right)} \\left(Y_{2}^{2}\\left(\\theta,\\phi\\right)\\right)^{2}}{\\mu{\\left(r \\right)}} - \\frac{0.00260416666666667 \\sqrt{6} r T_{1}{\\left(r \\right)} V{\\left(r \\right)} \\left(Y_{2}^{2}\\left(\\theta,\\phi\\right)\\right)^{2}}{\\mu{\\left(r \\right)} \\sin^{2}{\\left(\\theta \\right)}} + \\frac{0.0078125 r T_{1}{\\left(r \\right)} W{\\left(r \\right)} \\cos^{2}{\\left(\\theta \\right)} \\left(Y_{2}^{2}\\left(\\theta,\\phi\\right)\\right)^{2}}{\\mu{\\left(r \\right)}} - \\frac{0.015625 r T_{1}{\\left(r \\right)} W{\\left(r \\right)} \\left(Y_{2}^{2}\\left(\\theta,\\phi\\right)\\right)^{2}}{\\mu{\\left(r \\right)}} + \\frac{T_{1}^{2}{\\left(r \\right)} \\left(Y_{2}^{2}\\left(\\theta,\\phi\\right)\\right)^{2}}{256} - 0.03125 T_{2}^{2}{\\left(r \\right)} \\left(Y_{2}^{2}\\left(\\theta,\\phi\\right)\\right)^{2} + \\frac{0.015625 T_{2}^{2}{\\left(r \\right)} \\left(Y_{2}^{2}\\left(\\theta,\\phi\\right)\\right)^{2}}{\\sin^{2}{\\left(\\theta \\right)}} + \\frac{6.36065274524829 \\cdot 10^{-18} T_{2}^{2}{\\left(r \\right)} \\left(Y_{2}^{2}\\left(\\theta,\\phi\\right)\\right)^{2}}{\\sin^{4}{\\left(\\theta \\right)}} - \\frac{0.03125 T_{2}{\\left(r \\right)} T_{3}{\\left(r \\right)} \\cos{\\left(\\theta \\right)} \\left(Y_{2}^{2}\\left(\\theta,\\phi\\right)\\right)^{2}}{\\sin^{2}{\\left(\\theta \\right)}} - \\frac{0.03125 T_{2}{\\left(r \\right)} T_{3}{\\left(r \\right)} \\cos^{5}{\\left(\\theta \\right)} \\left(Y_{2}^{2}\\left(\\theta,\\phi\\right)\\right)^{2}}{\\sin^{4}{\\left(\\theta \\right)}} + \\frac{0.03125 T_{2}{\\left(r \\right)} T_{3}{\\left(r \\right)} \\cos{\\left(\\theta \\right)} \\left(Y_{2}^{2}\\left(\\theta,\\phi\\right)\\right)^{2}}{\\sin^{4}{\\left(\\theta \\right)}} - 0.015625 T_{3}^{2}{\\left(r \\right)} \\cos^{2}{\\left(\\theta \\right)} \\left(Y_{2}^{2}\\left(\\theta,\\phi\\right)\\right)^{2} + \\frac{0.015625 T_{3}^{2}{\\left(r \\right)} \\left(Y_{2}^{2}\\left(\\theta,\\phi\\right)\\right)^{2}}{\\sin^{2}{\\left(\\theta \\right)}} + 0.0234375 U^{2}{\\left(r \\right)} \\cos^{2}{\\left(\\theta \\right)} \\left(Y_{2}^{2}\\left(\\theta,\\phi\\right)\\right)^{2} - 0.0260416666666667 U^{2}{\\left(r \\right)} \\left(Y_{2}^{2}\\left(\\theta,\\phi\\right)\\right)^{2} + \\frac{0.0520833333333333 U^{2}{\\left(r \\right)} \\left(Y_{2}^{2}\\left(\\theta,\\phi\\right)\\right)^{2}}{\\sin^{2}{\\left(\\theta \\right)}} - \\frac{0.03125 U^{2}{\\left(r \\right)} \\left(Y_{2}^{2}\\left(\\theta,\\phi\\right)\\right)^{2}}{\\sin^{4}{\\left(\\theta \\right)}} + \\frac{0.114583333333333 U{\\left(r \\right)} V{\\left(r \\right)} \\cos{\\left(\\theta \\right)} \\left(Y_{2}^{2}\\left(\\theta,\\phi\\right)\\right)^{2}}{\\sin^{2}{\\left(\\theta \\right)}} + \\frac{0.0416666666666667 U{\\left(r \\right)} V{\\left(r \\right)} \\cos^{5}{\\left(\\theta \\right)} \\left(Y_{2}^{2}\\left(\\theta,\\phi\\right)\\right)^{2}}{\\sin^{4}{\\left(\\theta \\right)}} - \\frac{0.104166666666667 U{\\left(r \\right)} V{\\left(r \\right)} \\cos{\\left(\\theta \\right)} \\left(Y_{2}^{2}\\left(\\theta,\\phi\\right)\\right)^{2}}{\\sin^{4}{\\left(\\theta \\right)}} - \\frac{0.03125 \\sqrt{6} U{\\left(r \\right)} W{\\left(r \\right)} \\cos{\\left(\\theta \\right)} \\left(Y_{2}^{2}\\left(\\theta,\\phi\\right)\\right)^{2}}{\\sin^{2}{\\left(\\theta \\right)}} - \\frac{0.0208333333333333 \\sqrt{6} U{\\left(r \\right)} W{\\left(r \\right)} \\cos^{5}{\\left(\\theta \\right)} \\left(Y_{2}^{2}\\left(\\theta,\\phi\\right)\\right)^{2}}{\\sin^{4}{\\left(\\theta \\right)}} + \\frac{0.0208333333333333 \\sqrt{6} U{\\left(r \\right)} W{\\left(r \\right)} \\cos{\\left(\\theta \\right)} \\left(Y_{2}^{2}\\left(\\theta,\\phi\\right)\\right)^{2}}{\\sin^{4}{\\left(\\theta \\right)}} - 0.00260416666666667 V^{2}{\\left(r \\right)} \\cos^{2}{\\left(\\theta \\right)} \\left(Y_{2}^{2}\\left(\\theta,\\phi\\right)\\right)^{2} + 0.046875 V^{2}{\\left(r \\right)} \\left(Y_{2}^{2}\\left(\\theta,\\phi\\right)\\right)^{2} + \\frac{0.0104166666666667 V^{2}{\\left(r \\right)} \\left(Y_{2}^{2}\\left(\\theta,\\phi\\right)\\right)^{2}}{\\sin^{2}{\\left(\\theta \\right)}} - \\frac{0.03125 V^{2}{\\left(r \\right)} \\left(Y_{2}^{2}\\left(\\theta,\\phi\\right)\\right)^{2}}{\\sin^{4}{\\left(\\theta \\right)}} - 0.00520833333333333 \\sqrt{6} V{\\left(r \\right)} W{\\left(r \\right)} \\cos^{2}{\\left(\\theta \\right)} \\left(Y_{2}^{2}\\left(\\theta,\\phi\\right)\\right)^{2} - 0.03125 \\sqrt{6} V{\\left(r \\right)} W{\\left(r \\right)} \\left(Y_{2}^{2}\\left(\\theta,\\phi\\right)\\right)^{2} + \\frac{0.0104166666666667 \\sqrt{6} V{\\left(r \\right)} W{\\left(r \\right)} \\left(Y_{2}^{2}\\left(\\theta,\\phi\\right)\\right)^{2}}{\\sin^{2}{\\left(\\theta \\right)}} - \\frac{6.36065274524829 \\cdot 10^{-18} \\sqrt{6} V{\\left(r \\right)} W{\\left(r \\right)} \\left(Y_{2}^{2}\\left(\\theta,\\phi\\right)\\right)^{2}}{\\sin^{4}{\\left(\\theta \\right)}} - 0.015625 W^{2}{\\left(r \\right)} \\cos^{2}{\\left(\\theta \\right)} \\left(Y_{2}^{2}\\left(\\theta,\\phi\\right)\\right)^{2} + 0.03125 W^{2}{\\left(r \\right)} \\left(Y_{2}^{2}\\left(\\theta,\\phi\\right)\\right)^{2} - \\frac{0.015625 T_{2}^{2}{\\left(r \\right)} \\left(Y_{2}^{2}\\left(\\theta,\\phi\\right)\\right)^{2}}{r^{2}} + \\frac{0.015625 T_{3}^{2}{\\left(r \\right)} \\left(Y_{2}^{2}\\left(\\theta,\\phi\\right)\\right)^{2}}{r^{2}}$"
      ],
      "text/plain": [
       "-0.0009765625*r**2*T_1(r)**2*cos(theta)**2*Ynm(2, 2, theta, phi)**2/mu(r)**2 + 0.001953125*r**2*T_1(r)**2*Ynm(2, 2, theta, phi)**2/mu(r)**2 + 0.0078125*sqrt(6)*r*T_1(r)*U(r)*cos(theta)*Ynm(2, 2, theta, phi)**2/(mu(r)*sin(theta)**2) + 0.00520833333333333*sqrt(6)*r*T_1(r)*U(r)*cos(theta)**5*Ynm(2, 2, theta, phi)**2/(mu(r)*sin(theta)**4) - 0.00520833333333333*sqrt(6)*r*T_1(r)*U(r)*cos(theta)*Ynm(2, 2, theta, phi)**2/(mu(r)*sin(theta)**4) + 0.00130208333333333*sqrt(6)*r*T_1(r)*V(r)*cos(theta)**2*Ynm(2, 2, theta, phi)**2/mu(r) + 0.0078125*sqrt(6)*r*T_1(r)*V(r)*Ynm(2, 2, theta, phi)**2/mu(r) - 0.00260416666666667*sqrt(6)*r*T_1(r)*V(r)*Ynm(2, 2, theta, phi)**2/(mu(r)*sin(theta)**2) + 0.0078125*r*T_1(r)*W(r)*cos(theta)**2*Ynm(2, 2, theta, phi)**2/mu(r) - 0.015625*r*T_1(r)*W(r)*Ynm(2, 2, theta, phi)**2/mu(r) + T_1(r)**2*Ynm(2, 2, theta, phi)**2/256 - 0.03125*T_2(r)**2*Ynm(2, 2, theta, phi)**2 + 0.015625*T_2(r)**2*Ynm(2, 2, theta, phi)**2/sin(theta)**2 + 6.36065274524829e-18*T_2(r)**2*Ynm(2, 2, theta, phi)**2/sin(theta)**4 - 0.03125*T_2(r)*T_3(r)*cos(theta)*Ynm(2, 2, theta, phi)**2/sin(theta)**2 - 0.03125*T_2(r)*T_3(r)*cos(theta)**5*Ynm(2, 2, theta, phi)**2/sin(theta)**4 + 0.03125*T_2(r)*T_3(r)*cos(theta)*Ynm(2, 2, theta, phi)**2/sin(theta)**4 - 0.015625*T_3(r)**2*cos(theta)**2*Ynm(2, 2, theta, phi)**2 + 0.015625*T_3(r)**2*Ynm(2, 2, theta, phi)**2/sin(theta)**2 + 0.0234375*U(r)**2*cos(theta)**2*Ynm(2, 2, theta, phi)**2 - 0.0260416666666667*U(r)**2*Ynm(2, 2, theta, phi)**2 + 0.0520833333333333*U(r)**2*Ynm(2, 2, theta, phi)**2/sin(theta)**2 - 0.03125*U(r)**2*Ynm(2, 2, theta, phi)**2/sin(theta)**4 + 0.114583333333333*U(r)*V(r)*cos(theta)*Ynm(2, 2, theta, phi)**2/sin(theta)**2 + 0.0416666666666667*U(r)*V(r)*cos(theta)**5*Ynm(2, 2, theta, phi)**2/sin(theta)**4 - 0.104166666666667*U(r)*V(r)*cos(theta)*Ynm(2, 2, theta, phi)**2/sin(theta)**4 - 0.03125*sqrt(6)*U(r)*W(r)*cos(theta)*Ynm(2, 2, theta, phi)**2/sin(theta)**2 - 0.0208333333333333*sqrt(6)*U(r)*W(r)*cos(theta)**5*Ynm(2, 2, theta, phi)**2/sin(theta)**4 + 0.0208333333333333*sqrt(6)*U(r)*W(r)*cos(theta)*Ynm(2, 2, theta, phi)**2/sin(theta)**4 - 0.00260416666666667*V(r)**2*cos(theta)**2*Ynm(2, 2, theta, phi)**2 + 0.046875*V(r)**2*Ynm(2, 2, theta, phi)**2 + 0.0104166666666667*V(r)**2*Ynm(2, 2, theta, phi)**2/sin(theta)**2 - 0.03125*V(r)**2*Ynm(2, 2, theta, phi)**2/sin(theta)**4 - 0.00520833333333333*sqrt(6)*V(r)*W(r)*cos(theta)**2*Ynm(2, 2, theta, phi)**2 - 0.03125*sqrt(6)*V(r)*W(r)*Ynm(2, 2, theta, phi)**2 + 0.0104166666666667*sqrt(6)*V(r)*W(r)*Ynm(2, 2, theta, phi)**2/sin(theta)**2 - 6.36065274524829e-18*sqrt(6)*V(r)*W(r)*Ynm(2, 2, theta, phi)**2/sin(theta)**4 - 0.015625*W(r)**2*cos(theta)**2*Ynm(2, 2, theta, phi)**2 + 0.03125*W(r)**2*Ynm(2, 2, theta, phi)**2 - 0.015625*T_2(r)**2*Ynm(2, 2, theta, phi)**2/r**2 + 0.015625*T_3(r)**2*Ynm(2, 2, theta, phi)**2/r**2"
      ]
     },
     "metadata": {},
     "output_type": "display_data"
    }
   ],
   "source": [
    "display(simp_result/256)"
   ]
  },
  {
   "cell_type": "code",
   "execution_count": 25,
   "metadata": {},
   "outputs": [
    {
     "ename": "NameError",
     "evalue": "name 'A' is not defined",
     "output_type": "error",
     "traceback": [
      "\u001b[0;31m---------------------------------------------------------------------------\u001b[0m",
      "\u001b[0;31mNameError\u001b[0m                                 Traceback (most recent call last)",
      "Cell \u001b[0;32mIn[25], line 2\u001b[0m\n\u001b[1;32m      1\u001b[0m \u001b[39m#Calculation\u001b[39;00m\n\u001b[0;32m----> 2\u001b[0m result \u001b[39m=\u001b[39m A[i,j]\u001b[39m*\u001b[39mginv[i,j]\u001b[39m*\u001b[39mginv[i,j]\u001b[39m*\u001b[39mA[i,j]\n\u001b[1;32m      3\u001b[0m \u001b[39m#result = (A_compoenets*ginv*ginv*A_compoenets)\u001b[39;00m\n\u001b[1;32m      4\u001b[0m simp_result \u001b[39m=\u001b[39m simplify(result)\n",
      "\u001b[0;31mNameError\u001b[0m: name 'A' is not defined"
     ]
    }
   ],
   "source": [
    "#Calculation\n",
    "result = A[i,j]*ginv[i,j]*ginv[i,j]*A[i,j]\n",
    "#result = (A_compoenets*ginv*ginv*A_compoenets)\n",
    "simp_result = simplify(result)\n",
    "display(simp_result)"
   ]
  },
  {
   "cell_type": "code",
   "execution_count": null,
   "metadata": {},
   "outputs": [],
   "source": []
  },
  {
   "cell_type": "code",
   "execution_count": null,
   "metadata": {},
   "outputs": [],
   "source": []
  },
  {
   "cell_type": "code",
   "execution_count": null,
   "metadata": {},
   "outputs": [],
   "source": []
  }
 ],
 "metadata": {
  "kernelspec": {
   "display_name": "Python 3",
   "language": "python",
   "name": "python3"
  },
  "language_info": {
   "codemirror_mode": {
    "name": "ipython",
    "version": 3
   },
   "file_extension": ".py",
   "mimetype": "text/x-python",
   "name": "python",
   "nbconvert_exporter": "python",
   "pygments_lexer": "ipython3",
   "version": "3.11.1"
  },
  "orig_nbformat": 4,
  "vscode": {
   "interpreter": {
    "hash": "aee8b7b246df8f9039afb4144a1f6fd8d2ca17a180786b69acc140d282b71a49"
   }
  }
 },
 "nbformat": 4,
 "nbformat_minor": 2
}
