{
 "cells": [
  {
   "cell_type": "code",
   "execution_count": 1,
   "metadata": {},
   "outputs": [],
   "source": [
    "import numpy as np\n",
    "import matplotlib.pyplot as plt\n",
    "from scipy.integrate import solve_bvp\n",
    "from scipy.integrate import odeint\n",
    "from scipy.integrate import solve_ivp"
   ]
  },
  {
   "attachments": {},
   "cell_type": "markdown",
   "metadata": {},
   "source": [
    "Basic equations for background star.\n",
    "\n",
    "$\\frac{1}{ρ} \\frac{dp}{dr} = - \\frac{dϕ}{dr}$\n",
    "\n",
    "$4π G ρ = Δϕ$\n",
    "\n",
    "\n",
    "We use following dimension-less quantities for background star (N=1 polytrope)\n",
    "\n",
    "$ \\hat{\\rho} = \\frac{\\rho}{\\rho_c}$\n",
    "\n",
    "$x = \\frac{r}{R}, 0≤x≤ 1$\n",
    "\n",
    "$\\hat{\\phi} = \\frac{ϕ}{4π G ρ R^2}$\n",
    "\n",
    "\n",
    "\n",
    "$\\hat{\\rho} = \\frac{\\sin(π x)}{π x}$\n",
    "\n",
    "Radial oscillations of a spherical star\n",
    "\n",
    "$\\frac{d}{dr}(Γ P \\frac{1}{r^2}\\frac{d}{dr}(r^2 ξ))- \\frac{4}{r} \\frac{dP}{dr}ξ + ω^2 ρ ξ = 0$\n",
    "\n",
    "$⇒ \\frac{d}{dr}(Γ P \\frac{1}{r^2}\\frac{d}{dr}(r^2 ξ))- \\frac{4}{r} \\frac{dP}{dr}ξ + ω^2 ρ ξ = 0$\n",
    "\n"
   ]
  },
  {
   "cell_type": "markdown",
   "metadata": {},
   "source": []
  },
  {
   "cell_type": "code",
   "execution_count": null,
   "metadata": {},
   "outputs": [],
   "source": []
  },
  {
   "cell_type": "code",
   "execution_count": 4,
   "metadata": {},
   "outputs": [],
   "source": [
    "#Background density\n",
    "def rho(r): \n",
    "\trho = (np.sin(np.pi*r)) / (np.pi*r)\n",
    "\treturn rho\n",
    "\n"
   ]
  },
  {
   "cell_type": "code",
   "execution_count": 5,
   "metadata": {},
   "outputs": [],
   "source": [
    "x_min = 1.0e-2\n",
    "x_max = 1.0\n",
    "x = np.linspace(x_min, x_max, 100)"
   ]
  },
  {
   "cell_type": "code",
   "execution_count": 6,
   "metadata": {},
   "outputs": [
    {
     "data": {
      "text/plain": [
       "[<matplotlib.lines.Line2D at 0x11c735e50>]"
      ]
     },
     "execution_count": 6,
     "metadata": {},
     "output_type": "execute_result"
    },
    {
     "data": {
      "image/png": "[encoded data removed]",
      "text/plain": [
       "<Figure size 640x480 with 1 Axes>"
      ]
     },
     "metadata": {},
     "output_type": "display_data"
    }
   ],
   "source": [
    "fig, ax = plt.subplots()\n",
    "ax.plot(x,rho(x))"
   ]
  },
  {
   "cell_type": "code",
   "execution_count": null,
   "metadata": {},
   "outputs": [],
   "source": [
    "#Adiabatic factor\n",
    "Gamma = 2.2\n",
    "Lambda1 = 3.2\n",
    "Lambda2 = 4.2\t\n",
    "#The coupled ODEs\n",
    "def eigenvalue_problem(r, y, om2):\n",
    "\tW = y[0]\n",
    "\tV = y[1]\n",
    "\tdWdr = (1/(cs(r)))*Phi + ((g(r)/cs(r)) - (2/r))*W + (((beta1**2)/r) - (((om2[0])*r)/(cs(r))))*V\n",
    "\tdVdr = ((g(r)/(cs(r)*(om2[0])*r)) + ((rhograd(r))/(rho(r)*(om2[0])*r)))*Phi + ((1/r) + ((Lambda2*g(r)*rhograd(r))/((om2[0])*r*rho(r))) + (((g(r)**2)*Lambda1)/(cs(r)*r*(om2[0]))) + ((rhograd(r)*csgrad(r))/(rho(r)*r*(om2[0]))) + ((cs(r)*(rhograd(r)**2))/((rho(r)**2)*(om2[0])*r)) + ((g(r)*csgrad(r))/(cs(r)*r*(om2[0]))))*W -  (((g(r))/(cs(r))) + (1/r) + (rhograd(r)/rho(r)))*V\n",
    "\treturn np.vstack((dWdr, dVdr))\n",
    "\t\n",
    "#boundary conditions\n",
    "def bc(y0, yR, om2):\n",
    "\tR = 1.19e4\n",
    "\treturn np.array([y0[2], om2[0]*yR[3]])\n",
    "\n",
    "#initial solution guess\n",
    "om2 = np.zeros(1)\n",
    "y_guess = np.zeros((4, n_points))\n",
    "om2[0] = 0.1\n"
   ]
  },
  {
   "cell_type": "markdown",
   "metadata": {},
   "source": []
  }
 ],
 "metadata": {
  "kernelspec": {
   "display_name": "Python 3",
   "language": "python",
   "name": "python3"
  },
  "language_info": {
   "codemirror_mode": {
    "name": "ipython",
    "version": 3
   },
   "file_extension": ".py",
   "mimetype": "text/x-python",
   "name": "python",
   "nbconvert_exporter": "python",
   "pygments_lexer": "ipython3",
   "version": "3.11.1"
  },
  "orig_nbformat": 4,
  "vscode": {
   "interpreter": {
    "hash": "aee8b7b246df8f9039afb4144a1f6fd8d2ca17a180786b69acc140d282b71a49"
   }
  }
 },
 "nbformat": 4,
 "nbformat_minor": 2
}
